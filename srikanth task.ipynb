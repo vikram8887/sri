{
 "cells": [
  {
   "cell_type": "markdown",
   "id": "01556967",
   "metadata": {},
   "source": [
    "## 41)Doubled Pay\n",
    "### An employee working at a very bizarre company earns one penny on their first day. However, for every day that passes, their base amount doubles, so they earn two pennies on the second day and four pennies on the third day (totalling 7 pennies). Given a number of days, return how many pennies the employee accumulates."
   ]
  },
  {
   "cell_type": "code",
   "execution_count": 3,
   "id": "5d149de5",
   "metadata": {},
   "outputs": [
    {
     "name": "stdout",
     "output_type": "stream",
     "text": [
      "Enter the number of days: 5\n",
      "Total earnings after 5 days: 31\n"
     ]
    }
   ],
   "source": [
    "total_earnings = 0\n",
    "n = int(input(\"Enter the number of days: \"))  # Read input from the user\n",
    "\n",
    "for day in range(1, n + 1):\n",
    "    total_earnings += 2 ** (day - 1)\n",
    "\n",
    "print(\"Total earnings after\", n, \"days:\", total_earnings)\n"
   ]
  },
  {
   "cell_type": "code",
   "execution_count": 4,
   "id": "a973fe5a",
   "metadata": {},
   "outputs": [
    {
     "name": "stdout",
     "output_type": "stream",
     "text": [
      "Enter the number of days: 5\n",
      "Total earnings after 5 days: 31\n"
     ]
    }
   ],
   "source": [
    "total_earnings = 0\n",
    "n = int(input(\"Enter the number of days: \"))  # Read input from the user\n",
    "day = 1\n",
    "\n",
    "while day <= n:\n",
    "    total_earnings += 2 ** (day - 1)\n",
    "    day += 1\n",
    "\n",
    "print(\"Total earnings after\", n, \"days:\", total_earnings)\n"
   ]
  },
  {
   "cell_type": "markdown",
   "id": "9ac6dead",
   "metadata": {},
   "source": [
    "## 42)Capitalize the FirstLetter of Each Word\n",
    "### Create a function that takes a string as an argument and converts the first character of each word to uppercase. Return the newly formatted string."
   ]
  },
  {
   "cell_type": "code",
   "execution_count": 8,
   "id": "85704c58",
   "metadata": {},
   "outputs": [
    {
     "name": "stdout",
     "output_type": "stream",
     "text": [
      "enter the string:finally i got this\n",
      "Finally I Got This\n"
     ]
    }
   ],
   "source": [
    "a = input('enter the string:')\n",
    "words = a.split()\n",
    "capitalized_words = []\n",
    "for word in words:\n",
    "    capitalized_word = \"\"\n",
    "    for index, char in enumerate(word):\n",
    "        if index == 0:\n",
    "            capitalized_word += char.upper()\n",
    "        else:\n",
    "            capitalized_word += char.lower()\n",
    "    capitalized_words.append(capitalized_word)\n",
    "formatted_string3 = \" \".join(capitalized_words)\n",
    "print(formatted_string3) \n"
   ]
  },
  {
   "cell_type": "code",
   "execution_count": 10,
   "id": "5c622937",
   "metadata": {},
   "outputs": [
    {
     "name": "stdout",
     "output_type": "stream",
     "text": [
      "enter the string:ho yeah i got this\n",
      "Ho Yeah I Got This\n"
     ]
    }
   ],
   "source": [
    "a = input('enter the string:')\n",
    "words = a.split()\n",
    "capitalized_words = []\n",
    "word_index = 0\n",
    "while word_index < len(words):\n",
    "    word = words[word_index]\n",
    "    capitalized_word = \"\"\n",
    "    char_index = 0\n",
    "    while char_index < len(word):\n",
    "        if char_index == 0:\n",
    "            capitalized_word += word[char_index].upper()\n",
    "        else:\n",
    "            capitalized_word += word[char_index].lower()\n",
    "        char_index += 1\n",
    "    capitalized_words.append(capitalized_word)\n",
    "    word_index += 1\n",
    "formatted_string3 = \" \".join(capitalized_words)\n",
    "print(formatted_string3) "
   ]
  },
  {
   "cell_type": "markdown",
   "id": "0da2e819",
   "metadata": {},
   "source": [
    "## 43)Sum of Resistance in Parallel Circuits\n",
    "### If two or more resistors are connected in parallel, the overall resistance of the circuit reduces. It is possible to calculate the total resistance of a parallel circuit by using this formula:"
   ]
  },
  {
   "cell_type": "code",
   "execution_count": 5,
   "id": "9ca2841a",
   "metadata": {},
   "outputs": [
    {
     "name": "stdout",
     "output_type": "stream",
     "text": [
      "Enter the number of resistors: 5\n",
      "Enter resistance 1: 5\n",
      "Enter resistance 2: 9\n",
      "Enter resistance 3: 6\n",
      "Enter resistance 4: 8\n",
      "Enter resistance 5: 5\n",
      "Total resistance of the parallel circuit:  1.2\n"
     ]
    }
   ],
   "source": [
    "\n",
    "resistances = []\n",
    "num_resistors = int(input(\"Enter the number of resistors: \"))\n",
    "for i in range(num_resistors):\n",
    "    resistance = float(input(f\"Enter resistance {i + 1}: \"))\n",
    "    resistances.append(resistance)\n",
    "total_resistance = 0\n",
    "for resistance in resistances:\n",
    "    total_resistance += 1 / resistance\n",
    "\n",
    "total_resistance = 1 / total_resistance\n",
    "total_resistance = round(total_resistance, 1)\n",
    "\n",
    "print(\"Total resistance of the parallel circuit: \", total_resistance)\n"
   ]
  },
  {
   "cell_type": "code",
   "execution_count": 6,
   "id": "42fbff8b",
   "metadata": {},
   "outputs": [
    {
     "name": "stdout",
     "output_type": "stream",
     "text": [
      "Enter the number of resistors: 3\n",
      "Enter resistance 1: 8\n",
      "Enter resistance 2: 1.6\n",
      "Enter resistance 3: 2.8\n",
      "Total resistance of the parallel circuit:  0.9\n"
     ]
    }
   ],
   "source": [
    "# Initialize an empty list to store resistances\n",
    "resistances = []\n",
    "\n",
    "# Take user input for resistances using a while loop\n",
    "num_resistors = int(input(\"Enter the number of resistors: \"))\n",
    "count = 0\n",
    "\n",
    "while count < num_resistors:\n",
    "    resistance = float(input(f\"Enter resistance {count + 1}: \"))\n",
    "    resistances.append(resistance)\n",
    "    count += 1\n",
    "\n",
    "# Calculate total resistance using a for loop\n",
    "total_resistance = 0\n",
    "for resistance in resistances:\n",
    "    total_resistance += 1 / resistance\n",
    "\n",
    "total_resistance = 1 / total_resistance\n",
    "total_resistance = round(total_resistance, 1)\n",
    "\n",
    "# Output the total resistance\n",
    "print(\"Total resistance of the parallel circuit: \", total_resistance)\n"
   ]
  },
  {
   "cell_type": "markdown",
   "id": "d1998dca",
   "metadata": {},
   "source": [
    "## 44)Remove the Letters ABC\n",
    "### Create a function that will remove the letters “a”, “b” and “c” from the given string and return the modified version. If the given string does not contain “a”, “b”, or “c”, return None."
   ]
  },
  {
   "cell_type": "code",
   "execution_count": 2,
   "id": "db6bcd8b",
   "metadata": {},
   "outputs": [
    {
     "name": "stdout",
     "output_type": "stream",
     "text": [
      "enter the string:aa i think it will work yaar c B\n",
      " i think it will work yr  \n"
     ]
    }
   ],
   "source": [
    "input_string = input('enter the string:').lower()\n",
    "modified_string = \"\"\n",
    "has_abc = False\n",
    "\n",
    "for char in input_string:\n",
    "    if char not in ['a', 'b', 'c']:\n",
    "        modified_string += char\n",
    "    else:\n",
    "        has_abc = True\n",
    "\n",
    "if has_abc:\n",
    "    print(modified_string)\n",
    "else:\n",
    "    print(None)\n"
   ]
  },
  {
   "cell_type": "code",
   "execution_count": 3,
   "id": "8b019cd1",
   "metadata": {},
   "outputs": [
    {
     "name": "stdout",
     "output_type": "stream",
     "text": [
      "Enter the string:aa i think it will work yaar c B\n",
      " i think it will work yr  \n"
     ]
    }
   ],
   "source": [
    "input_string = input('Enter the string:').lower()\n",
    "modified_string = \"\"\n",
    "has_abc = False\n",
    "index = 0\n",
    "\n",
    "while index < len(input_string):\n",
    "    char = input_string[index]\n",
    "    if char not in ['a', 'b', 'c']:\n",
    "        modified_string += char\n",
    "    else:\n",
    "        has_abc = True\n",
    "    index += 1\n",
    "\n",
    "if has_abc:\n",
    "    print(modified_string)\n",
    "else:\n",
    "    print(None)\n"
   ]
  },
  {
   "cell_type": "markdown",
   "id": "5c022842",
   "metadata": {},
   "source": [
    "## 45)Puzzle Pieces\n",
    "### Write a function that takes two lists and adds the first element in the first list with the first element in the second list, the second element in the first list with the second element in the second list, etc, etc. Return True if all element combinations add up to the same number. Otherwise, return False."
   ]
  },
  {
   "cell_type": "code",
   "execution_count": 11,
   "id": "23354bf0",
   "metadata": {},
   "outputs": [
    {
     "name": "stdout",
     "output_type": "stream",
     "text": [
      "Enter the first list of numbers separated by spaces: 5 9 3\n",
      "Enter the second list of numbers separated by spaces: 9 5 1\n",
      "False\n"
     ]
    }
   ],
   "source": [
    "# Take input from the user for the first list\n",
    "list1 = input(\"Enter the first list of numbers separated by spaces: \").split()\n",
    "list1 = [int(num) for num in list1]\n",
    "\n",
    "# Take input from the user for the second list of numbers\n",
    "list2 = input(\"Enter the second list of numbers separated by spaces: \").split()\n",
    "list2 = [int(num) for num in list2]\n",
    "\n",
    "# Check if the lists have the same length\n",
    "if len(list1) != len(list2):\n",
    "    print(False)\n",
    "else:\n",
    "    target_sum = list1[0] + list2[0]\n",
    "    for i in range(1, len(list1)):\n",
    "        if list1[i] + list2[i] != target_sum:\n",
    "            print(False)\n",
    "            break\n",
    "    else:\n",
    "        print(True)\n",
    "\n"
   ]
  },
  {
   "cell_type": "code",
   "execution_count": 10,
   "id": "a7247057",
   "metadata": {},
   "outputs": [
    {
     "name": "stdout",
     "output_type": "stream",
     "text": [
      "Enter numbers for the first list. Enter 'done' when you are finished.\n",
      "Enter a number: 6\n",
      "Enter a number: 9\n",
      "Enter a number: 2\n",
      "Enter a number: done\n",
      "Enter numbers for the second list. Enter 'done' when you are finished.\n",
      "Enter a number: 6\n",
      "Enter a number: 8\n",
      "Enter a number: 7\n",
      "Enter a number: done\n",
      "False\n"
     ]
    }
   ],
   "source": [
    "# Take input from the user for the first list using a while loop\n",
    "list1 = []\n",
    "print(\"Enter numbers for the first list. Enter 'done' when you are finished.\")\n",
    "while True:\n",
    "    user_input = (input(\"Enter a number: \"))\n",
    "    if user_input.lower() == 'done':\n",
    "        break\n",
    "    list1.append(int(user_input))\n",
    "\n",
    "# Take input from the user for the second list using a while loop\n",
    "list2 = []\n",
    "print(\"Enter numbers for the second list. Enter 'done' when you are finished.\")\n",
    "while True:\n",
    "    user_input = input(\"Enter a number: \")\n",
    "    if user_input.lower() == 'done':\n",
    "        break\n",
    "    list2.append(int(user_input))\n",
    "\n",
    "# Check if the lists have the same length\n",
    "if len(list1) != len(list2):\n",
    "    print(False)\n",
    "else:\n",
    "    i = 0\n",
    "    while i < len(list1):\n",
    "        if list1[i] + list2[i] != list1[0] + list2[0]:\n",
    "            print(False)\n",
    "            break\n",
    "        i += 1\n",
    "    else:\n",
    "        print(True)\n"
   ]
  },
  {
   "cell_type": "markdown",
   "id": "5d2fe59d",
   "metadata": {},
   "source": [
    "## 46)Fix the Code: Un-Mutating a List"
   ]
  },
  {
   "cell_type": "code",
   "execution_count": 14,
   "id": "c44ba25a",
   "metadata": {},
   "outputs": [
    {
     "name": "stdout",
     "output_type": "stream",
     "text": [
      "Enter a list of numbers separated by space: 5 6 8 9 \n",
      "Enter the number of times to perform the transformation: 2\n",
      "Modified list after 2 transformations: [5, 5, 7, 9]\n"
     ]
    }
   ],
   "source": [
    "# Take input from the user for the original list\n",
    "x = list(map(int, input(\"Enter a list of numbers separated by space: \").split()))\n",
    "\n",
    "# Number of times to perform the transformation\n",
    "times = int(input(\"Enter the number of times to perform the transformation: \"))\n",
    "\n",
    "# Create a copy of the original list\n",
    "result = x[:]\n",
    "\n",
    "# Perform the transformation on the copied list using only for and if statements\n",
    "for i in range(len(x)):\n",
    "    for j in range(1, times + 1):\n",
    "        if i >= j and i < len(x) - j:\n",
    "            result[i] -= 1\n",
    "\n",
    "# Print the modified list\n",
    "print(\"Modified list after\", times, \"transformations:\", result)\n"
   ]
  },
  {
   "cell_type": "code",
   "execution_count": 15,
   "id": "2b17ab76",
   "metadata": {},
   "outputs": [
    {
     "name": "stdout",
     "output_type": "stream",
     "text": [
      "Enter a list of numbers separated by space: 5 9 3 6 6\n",
      "Enter the number of times to perform the transformation: 6\n",
      "Modified list after 6 transformations: [5, 8, 1, 5, 6]\n"
     ]
    }
   ],
   "source": [
    "# Take input from the user for the original list\n",
    "x = list(map(int, input(\"Enter a list of numbers separated by space: \").split()))\n",
    "\n",
    "# Number of times to perform the transformation\n",
    "times = int(input(\"Enter the number of times to perform the transformation: \"))\n",
    "\n",
    "# Create a copy of the original list\n",
    "result = x[:]\n",
    "\n",
    "# Perform the transformation on the copied list using while loops\n",
    "i = 0\n",
    "while i < len(x):\n",
    "    j = 1\n",
    "    while j <= times:\n",
    "        if i >= j and i < len(x) - j:\n",
    "            result[i] -= 1\n",
    "        j += 1\n",
    "    i += 1\n",
    "\n",
    "# Print the modified list\n",
    "print(\"Modified list after\", times, \"transformations:\", result)\n"
   ]
  },
  {
   "cell_type": "markdown",
   "id": "7022cf70",
   "metadata": {},
   "source": [
    "## 47)Extremely Over-Nested\n",
    "### Create a function that returns the original value from a list with too many sub-lists."
   ]
  },
  {
   "cell_type": "code",
   "execution_count": 5,
   "id": "aeb86911",
   "metadata": {},
   "outputs": [
    {
     "name": "stdout",
     "output_type": "stream",
     "text": [
      "[[[[[[[[[[[[3]]]]]]]]]]]]\n",
      "[[[[[True]]]]]\n",
      "[[[[[[[[[[[[[[[[['edabit']]]]]]]]]]]]]]]]]\n"
     ]
    }
   ],
   "source": [
    "nested_list = [[[[[[[[[[[[[3]]]]]]]]]]]]]\n",
    "for _ in range(len(nested_list)):\n",
    "    if isinstance(nested_list, list):\n",
    "        nested_list = nested_list[0]\n",
    "\n",
    "result = nested_list\n",
    "print(result)  # Output: 3\n",
    "\n",
    "nested_list = [[[[[[True]]]]]]\n",
    "for _ in range(len(nested_list)):\n",
    "    if isinstance(nested_list, list):\n",
    "        nested_list = nested_list[0]\n",
    "\n",
    "result = nested_list\n",
    "print(result)  # Output: True\n",
    "\n",
    "nested_list = [[[[[[[[[[[[[[[[[[\"edabit\"]]]]]]]]]]]]]]]]]]\n",
    "for _ in range(len(nested_list)):\n",
    "    if isinstance(nested_list, list):\n",
    "        nested_list = nested_list[0]\n",
    "\n",
    "result = nested_list\n",
    "print(result)\n"
   ]
  },
  {
   "cell_type": "code",
   "execution_count": 4,
   "id": "081687f1",
   "metadata": {},
   "outputs": [
    {
     "name": "stdout",
     "output_type": "stream",
     "text": [
      "3\n",
      "True\n",
      "edabit\n"
     ]
    }
   ],
   "source": [
    "nested_list = [[[[[[[[[[[[[3]]]]]]]]]]]]]\n",
    "while isinstance(nested_list, list):\n",
    "    nested_list = nested_list[0]\n",
    "\n",
    "result = nested_list\n",
    "print(result)  # Output: 3\n",
    "\n",
    "nested_list = [[[[[[True]]]]]]\n",
    "while isinstance(nested_list, list):\n",
    "    nested_list = nested_list[0]\n",
    "\n",
    "result = nested_list\n",
    "print(result)  # Output: True\n",
    "\n",
    "nested_list = [[[[[[[[[[[[[[[[[[\"edabit\"]]]]]]]]]]]]]]]]]]\n",
    "while isinstance(nested_list, list):\n",
    "    nested_list = nested_list[0]\n",
    "\n",
    "result = nested_list\n",
    "print(result)  # Output: \"edabit\"\n"
   ]
  },
  {
   "cell_type": "markdown",
   "id": "b5902f45",
   "metadata": {},
   "source": [
    "## 48)Compounding Letters\n",
    "### Create a function that takes a string and returns a new string with each new character accumulating by +1. Separate each set with a dash."
   ]
  },
  {
   "cell_type": "code",
   "execution_count": 6,
   "id": "12fd88ad",
   "metadata": {},
   "outputs": [
    {
     "name": "stdout",
     "output_type": "stream",
     "text": [
      "Enter a string: hjsuygsdh#ihsd@\n",
      "H-Jj-Sss-Uuuu-Yyyyy-Gggggg-Sssssss-Dddddddd-Hhhhhhhhh-Iiiiiiiiiii-Hhhhhhhhhhhh-Sssssssssssss-Dddddddddddddd-\n"
     ]
    }
   ],
   "source": [
    "# Take input from the user\n",
    "input_str = input(\"Enter a string: \")\n",
    "\n",
    "result = []\n",
    "current_count = 1\n",
    "for char in input_str:\n",
    "    if char.isalpha():\n",
    "        result.append(char.upper() + char.lower() * (current_count - 1))\n",
    "        if current_count < len(input_str):\n",
    "            result.append(\"-\")\n",
    "    current_count += 1\n",
    "\n",
    "output = ''.join(result)\n",
    "print(output)\n"
   ]
  },
  {
   "cell_type": "code",
   "execution_count": 7,
   "id": "48cad8f8",
   "metadata": {},
   "outputs": [
    {
     "name": "stdout",
     "output_type": "stream",
     "text": [
      "Enter a string: @#jsd@\n",
      "J-Ss-Ddd-\n"
     ]
    }
   ],
   "source": [
    "# Take input from the user\n",
    "input_str = input(\"Enter a string: \")\n",
    "\n",
    "result = []\n",
    "current_count = 1\n",
    "index = 0\n",
    "\n",
    "while index < len(input_str):\n",
    "    char = input_str[index]\n",
    "    if char.isalpha():\n",
    "        result.append(char.upper() + char.lower() * (current_count - 1))\n",
    "        if current_count < len(input_str):\n",
    "            result.append(\"-\")\n",
    "        current_count += 1\n",
    "    index += 1\n",
    "\n",
    "output = ''.join(result)\n",
    "print(output)\n"
   ]
  },
  {
   "cell_type": "markdown",
   "id": "8c1da23a",
   "metadata": {},
   "source": [
    "## 49)Special Lists\n",
    "### A list is special if every even index contains an even number and every odd index contains an odd number. Create a function that returns True if an array is special, and False otherwise."
   ]
  },
  {
   "cell_type": "code",
   "execution_count": 14,
   "id": "97f9102c",
   "metadata": {},
   "outputs": [
    {
     "name": "stdout",
     "output_type": "stream",
     "text": [
      "Enter a list of numbers separated by space: 2 3 4 5 6\n",
      "true\n"
     ]
    }
   ],
   "source": [
    "# Take input from the user for the list\n",
    "input_list = input(\"Enter a list of numbers separated by space: \").split()\n",
    "special_list = [int(num) for num in input_list]\n",
    "\n",
    "is_special = True\n",
    "\n",
    "# Check if the input list is special\n",
    "for i in range(len(special_list)):\n",
    "    if i % 2 == 0 and special_list[i] % 2 != 0:\n",
    "        is_special = False\n",
    "        break\n",
    "    elif i % 2 != 0 and special_list[i] % 2 == 0:\n",
    "        is_special = False\n",
    "        break\n",
    "\n",
    "if is_special:\n",
    "    print(\"true\")\n",
    "else:\n",
    "    print(\"false\")\n"
   ]
  },
  {
   "cell_type": "code",
   "execution_count": 16,
   "id": "10cfddae",
   "metadata": {},
   "outputs": [
    {
     "name": "stdout",
     "output_type": "stream",
     "text": [
      "Enter a list of numbers separated by space: 2 4 3 45\n",
      "false\n"
     ]
    }
   ],
   "source": [
    "# Take input from the user for the list\n",
    "input_list = input(\"Enter a list of numbers separated by space: \").split()\n",
    "special_list = [int(num) for num in input_list]\n",
    "\n",
    "is_special = True\n",
    "index = 0\n",
    "\n",
    "# Check if the input list is special using a while loop\n",
    "while index < len(special_list):\n",
    "    if index % 2 == 0 and special_list[index] % 2 != 0:\n",
    "        is_special = False\n",
    "        break\n",
    "    elif index % 2 != 0 and special_list[index] % 2 == 0:\n",
    "        is_special = False\n",
    "        break\n",
    "    index += 1\n",
    "\n",
    "if is_special:\n",
    "    print(\"true\")\n",
    "else:\n",
    "    print(\"false\")\n"
   ]
  },
  {
   "cell_type": "markdown",
   "id": "3a45ea70",
   "metadata": {},
   "source": [
    "## 50)Find the Second Occurrence of “zip” in a String\n",
    "### Write a function that returns the position of the second occurrence of “zip” in a string, or -1 if it does not occur at least twice. Your code should be general enough to pass every possible case where “zip” can occur in a string.\n",
    "\n"
   ]
  },
  {
   "cell_type": "code",
   "execution_count": 19,
   "id": "bbe35fae",
   "metadata": {},
   "outputs": [
    {
     "name": "stdout",
     "output_type": "stream",
     "text": [
      "Enter a string: 5 5 6\n",
      "Second occurrence of 'zip' not found.\n"
     ]
    }
   ],
   "source": [
    "# Input string\n",
    "input_string = input(\"Enter a string: \")\n",
    "\n",
    "# Find the first occurrence of \"zip\"\n",
    "first_occurrence = input_string.find(\"zip\")\n",
    "\n",
    "# Initialize a variable to keep track of the count of \"zip\" occurrences\n",
    "count = 0\n",
    "\n",
    "# Iterate through the string using a for loop\n",
    "for i in range(len(input_string)):\n",
    "    # Check if the current substring starting at index i matches \"zip\"\n",
    "    if input_string[i:i+3] == \"zip\":\n",
    "        count += 1\n",
    "        # If it's the second occurrence, print its position and break the loop\n",
    "        if count == 2:\n",
    "            print(\"Position of the second occurrence of 'zip':\", i)\n",
    "            break\n",
    "\n",
    "# If the second occurrence is not found, print a message\n",
    "if count < 2:\n",
    "    print(\"Second occurrence of 'zip' not found.\")\n",
    "\n"
   ]
  },
  {
   "cell_type": "code",
   "execution_count": 20,
   "id": "c4b5f76d",
   "metadata": {},
   "outputs": [
    {
     "name": "stdout",
     "output_type": "stream",
     "text": [
      "Enter a string: 8 8 8 \n",
      "Second occurrence of 'zip' not found.\n"
     ]
    }
   ],
   "source": [
    "# Input string\n",
    "input_string = input(\"Enter a string: \")\n",
    "\n",
    "# Find the first occurrence of \"zip\"\n",
    "first_occurrence = input_string.find(\"zip\")\n",
    "\n",
    "# Initialize variables for loop control and count of \"zip\" occurrences\n",
    "index = 0\n",
    "count = 0\n",
    "\n",
    "# Iterate through the string using a while loop\n",
    "while index < len(input_string):\n",
    "    # Check if the current substring starting at index matches \"zip\"\n",
    "    if input_string[index:index+3] == \"zip\":\n",
    "        count += 1\n",
    "        # If it's the second occurrence, print its position and break the loop\n",
    "        if count == 2:\n",
    "            print(\"Position of the second occurrence of 'zip':\", index)\n",
    "            break\n",
    "    index += 1\n",
    "\n",
    "# If the second occurrence is not found, print a message\n",
    "if count < 2:\n",
    "    print(\"Second occurrence of 'zip' not found.\")\n"
   ]
  },
  {
   "cell_type": "code",
   "execution_count": null,
   "id": "97bb8b42",
   "metadata": {},
   "outputs": [],
   "source": []
  }
 ],
 "metadata": {
  "kernelspec": {
   "display_name": "Python 3 (ipykernel)",
   "language": "python",
   "name": "python3"
  },
  "language_info": {
   "codemirror_mode": {
    "name": "ipython",
    "version": 3
   },
   "file_extension": ".py",
   "mimetype": "text/x-python",
   "name": "python",
   "nbconvert_exporter": "python",
   "pygments_lexer": "ipython3",
   "version": "3.11.5"
  }
 },
 "nbformat": 4,
 "nbformat_minor": 5
}
